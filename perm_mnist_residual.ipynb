{
 "cells": [
  {
   "cell_type": "markdown",
   "metadata": {},
   "source": [
    "# Rotated MNIST Residual"
   ]
  },
  {
   "cell_type": "code",
   "execution_count": 4,
   "metadata": {},
   "outputs": [
    {
     "name": "stdout",
     "output_type": "stream",
     "text": [
      "The autoreload extension is already loaded. To reload it, use:\n",
      "  %reload_ext autoreload\n"
     ]
    }
   ],
   "source": [
    "%load_ext autoreload\n",
    "%autoreload 2\n",
    "%matplotlib inline\n",
    "\n",
    "import torch\n",
    "from torch import nn\n",
    "from torch.nn import functional as F\n",
    "from torchvision import datasets, transforms\n",
    "from tqdm.notebook import tqdm\n",
    "\n",
    "import numpy as np\n",
    "import matplotlib.pyplot as plt\n",
    "import random\n",
    "from collections import OrderedDict\n",
    "\n",
    "from utils import mlp,train_test_model\n",
    "from utils.ewc_utils.onlineEWC import OnlineEWC\n",
    "from utils.ewc_utils.sketchEWC import SketchEWC\n",
    "from utils.ewc_utils.kfacEWC import KfacEWC\n",
    "from utils.ewc_utils.ToyExampleEWC import FullEWC, LowRankEWC, MinorDiagonalEWC, BlockDiagonalEWC\n",
    "\n",
    "from data.permuted_MNIST_test1 import get_permuted_mnist\n",
    "\n",
    "import os\n",
    "\n",
    "results_folder='perm_mnist_test/'\n",
    "\n",
    "if not os.path.isdir(results_folder):\n",
    "    os.mkdir(results_folder)"
   ]
  },
  {
   "cell_type": "markdown",
   "metadata": {},
   "source": [
    "## Set configurations"
   ]
  },
  {
   "cell_type": "code",
   "execution_count": 5,
   "metadata": {},
   "outputs": [],
   "source": [
    "epochs = 20\n",
    "lr = 1e-3\n",
    "batch_size = 100 \n",
    "num_task = 2\n",
    "\n",
    "seed = 0\n",
    "device='cuda:0'"
   ]
  },
  {
   "cell_type": "markdown",
   "metadata": {},
   "source": [
    "## Load dataset"
   ]
  },
  {
   "cell_type": "code",
   "execution_count": 7,
   "metadata": {},
   "outputs": [
    {
     "data": {
      "image/png": "[encoded data removed]",
      "text/plain": [
       "<Figure size 432x216 with 2 Axes>"
      ]
     },
     "metadata": {},
     "output_type": "display_data"
    }
   ],
   "source": [
    "random.seed(seed)\n",
    "np.random.seed(seed)\n",
    "torch.manual_seed(seed)\n",
    "\n",
    "train_loader, test_loader = get_permuted_mnist(num_task,batch_size,num_workers=4)\n",
    "\n",
    "fig,ax=plt.subplots(1,num_task,figsize=(num_task*3,3))\n",
    "for i in range(num_task):\n",
    "    iter_data=iter(train_loader[i])\n",
    "    image,label=iter_data.next()\n",
    "    I=np.reshape(image.data[0,...].numpy(),(14,14))    \n",
    "    ax[i].imshow(I,cmap='gray')\n",
    "    ax[i].set_title(label.data[0].numpy())\n",
    "    ax[i].set_xlabel(\"Intensity in [%.2f,%.2f]\"%(I.min(),I.max()))\n",
    "# plt.show()"
   ]
  },
  {
   "cell_type": "markdown",
   "metadata": {},
   "source": [
    "## Model definition"
   ]
  },
  {
   "cell_type": "code",
   "execution_count": 8,
   "metadata": {},
   "outputs": [],
   "source": [
    "class LeNet5(nn.Module):\n",
    "    \"\"\"\n",
    "    Input - 1x32x32\n",
    "    Output - 10\n",
    "    Adopted (but slightly different) from https://github.com/activatedgeek/LeNet-5/blob/master/lenet.py\n",
    "    \"\"\"\n",
    "    def __init__(self):\n",
    "        super(LeNet5, self).__init__()\n",
    "\n",
    "        self.c1 = nn.Sequential(OrderedDict([\n",
    "            ('c1', nn.Conv2d(1, 6, kernel_size=(5, 5), padding=2)),\n",
    "            ('relu1', nn.ReLU()),\n",
    "            ('s1', nn.MaxPool2d(kernel_size=(2, 2), stride=2))\n",
    "        ]))\n",
    "        self.c2 = nn.Sequential(OrderedDict([\n",
    "            ('c2', nn.Conv2d(6, 16, kernel_size=(5, 5))),\n",
    "            ('relu2', nn.ReLU()),\n",
    "            ('s2', nn.MaxPool2d(kernel_size=(2, 2), stride=2))\n",
    "        ]))\n",
    "        self.c3 = nn.Sequential(OrderedDict([\n",
    "            ('c3', nn.Conv2d(16, 120, kernel_size=(5, 5))),\n",
    "            ('relu3', nn.ReLU())\n",
    "        ]))\n",
    "        self.f4 = nn.Sequential(OrderedDict([\n",
    "            ('f4', nn.Linear(120, 84)),\n",
    "            ('relu4', nn.ReLU())\n",
    "        ]))\n",
    "        self.f5 = nn.Sequential(OrderedDict([\n",
    "            ('f5', nn.Linear(84, 10))\n",
    "        ]))\n",
    "\n",
    "    def forward(self, img):\n",
    "        output = self.c1(img)\n",
    "        output = self.c2(output)\n",
    "        output = self.c3(output)\n",
    "        output = output.view(img.size(0), -1)\n",
    "        output = self.f4(output)\n",
    "        output = self.f5(output)\n",
    "        return output"
   ]
  },
  {
   "cell_type": "code",
   "execution_count": 9,
   "metadata": {},
   "outputs": [],
   "source": [
    "class Model(nn.Module):\n",
    "    \"\"\"\n",
    "    Input - 1x32x32\n",
    "    Output - 10\n",
    "    \"\"\"\n",
    "    def __init__(self):\n",
    "        super(Model, self).__init__()\n",
    "        \n",
    "        self.f1 = nn.Sequential(OrderedDict([\n",
    "            ('f1', nn.Linear(196, 40)),\n",
    "            ('relu1', nn.ReLU())\n",
    "        ]))\n",
    "        \n",
    "        self.res2 = nn.Sequential(OrderedDict([\n",
    "            ('f1', nn.Linear(40, 40)),\n",
    "            ('relu1', nn.ReLU()),\n",
    "            ('f2', nn.Linear(40, 40)),\n",
    "        ]))\n",
    "        \n",
    "        self.relu2 = nn.ReLU()\n",
    "        \n",
    "        self.res3 = nn.Sequential(OrderedDict([\n",
    "            ('f1', nn.Linear(40, 40)),\n",
    "            ('relu1', nn.ReLU()),\n",
    "            ('f2', nn.Linear(40, 40)),\n",
    "        ]))\n",
    "        \n",
    "        self.relu3 = nn.ReLU()\n",
    "        \n",
    "        self.res4 = nn.Sequential(OrderedDict([\n",
    "            ('f1', nn.Linear(40, 40)),\n",
    "            ('relu1', nn.ReLU()),\n",
    "            ('f2', nn.Linear(40, 40)),\n",
    "        ]))\n",
    "        \n",
    "        self.relu4 = nn.ReLU()\n",
    "        \n",
    "        self.res5 = nn.Sequential(OrderedDict([\n",
    "            ('f1', nn.Linear(40, 40)),\n",
    "            ('relu1', nn.ReLU()),\n",
    "            ('f2', nn.Linear(40, 40)),\n",
    "        ]))\n",
    "        \n",
    "        self.relu5 = nn.ReLU()\n",
    "        \n",
    "        self.f6 = nn.Sequential(OrderedDict([\n",
    "            ('f6', nn.Linear(40, 10))\n",
    "        ]))\n",
    "\n",
    "    def forward(self, x):\n",
    "#         x = x.view(x.size(0), -1)\n",
    "        x = self.f1(x)\n",
    "        \n",
    "        identity1 = x\n",
    "        out1 = self.res2(x)\n",
    "        out1 += identity1\n",
    "        out1 = self.relu2(out1)\n",
    "        \n",
    "        identity2 = out1\n",
    "        out2 = self.res3(out1)\n",
    "        out2 += identity2\n",
    "        out2 = self.relu3(out2)\n",
    "        \n",
    "        identity3 = out2\n",
    "        out3 = self.res4(out2)\n",
    "        out3 += identity3\n",
    "        out3 = self.relu4(out3)\n",
    "        \n",
    "        identity4 = out3\n",
    "        out4 = self.res5(out3)\n",
    "        out4 += identity4\n",
    "        out4 = self.relu5(out4)\n",
    "        \n",
    "        out = self.f6(out4)\n",
    "        return out\n",
    "    \n",
    "    def init_weights(self,m):\n",
    "        if type(m) == nn.Linear:\n",
    "            nn.init.xavier_uniform_(m.weight)\n",
    "            if m.bias is not None:\n",
    "                m.bias.data.fill_(0.01)\n",
    "\n",
    "    def reset(self):\n",
    "        self.f1.apply(self.init_weights)\n",
    "        self.res2.apply(self.init_weights)\n",
    "        self.res3.apply(self.init_weights)\n",
    "        self.res4.apply(self.init_weights)\n",
    "        self.res5.apply(self.init_weights)\n",
    "        self.f6.apply(self.init_weights)"
   ]
  },
  {
   "cell_type": "markdown",
   "metadata": {},
   "source": [
    "## Set model"
   ]
  },
  {
   "cell_type": "code",
   "execution_count": 10,
   "metadata": {},
   "outputs": [
    {
     "name": "stdout",
     "output_type": "stream",
     "text": [
      "Model(\n",
      "  (f1): Sequential(\n",
      "    (f1): Linear(in_features=196, out_features=40, bias=True)\n",
      "    (relu1): ReLU()\n",
      "  )\n",
      "  (res2): Sequential(\n",
      "    (f1): Linear(in_features=40, out_features=40, bias=True)\n",
      "    (relu1): ReLU()\n",
      "    (f2): Linear(in_features=40, out_features=40, bias=True)\n",
      "  )\n",
      "  (relu2): ReLU()\n",
      "  (res3): Sequential(\n",
      "    (f1): Linear(in_features=40, out_features=40, bias=True)\n",
      "    (relu1): ReLU()\n",
      "    (f2): Linear(in_features=40, out_features=40, bias=True)\n",
      "  )\n",
      "  (relu3): ReLU()\n",
      "  (res4): Sequential(\n",
      "    (f1): Linear(in_features=40, out_features=40, bias=True)\n",
      "    (relu1): ReLU()\n",
      "    (f2): Linear(in_features=40, out_features=40, bias=True)\n",
      "  )\n",
      "  (relu4): ReLU()\n",
      "  (res5): Sequential(\n",
      "    (f1): Linear(in_features=40, out_features=40, bias=True)\n",
      "    (relu1): ReLU()\n",
      "    (f2): Linear(in_features=40, out_features=40, bias=True)\n",
      "  )\n",
      "  (relu5): ReLU()\n",
      "  (f6): Sequential(\n",
      "    (f6): Linear(in_features=40, out_features=10, bias=True)\n",
      "  )\n",
      ")\n",
      "f1.f1.weight 7840\n",
      "f1.f1.bias 40\n",
      "res2.f1.weight 1600\n",
      "res2.f1.bias 40\n",
      "res2.f2.weight 1600\n",
      "res2.f2.bias 40\n",
      "res3.f1.weight 1600\n",
      "res3.f1.bias 40\n",
      "res3.f2.weight 1600\n",
      "res3.f2.bias 40\n",
      "res4.f1.weight 1600\n",
      "res4.f1.bias 40\n",
      "res4.f2.weight 1600\n",
      "res4.f2.bias 40\n",
      "res5.f1.weight 1600\n",
      "res5.f1.bias 40\n",
      "res5.f2.weight 1600\n",
      "res5.f2.bias 40\n",
      "f6.f6.weight 400\n",
      "f6.f6.bias 10\n",
      "21410\n"
     ]
    }
   ],
   "source": [
    "model = Model()\n",
    "print(model)\n",
    "\n",
    "d=0\n",
    "for n, p in model.named_parameters():\n",
    "    print(n, p.data.view(-1).shape[0])\n",
    "    d+=p.data.view(-1).shape[0]\n",
    "print(d)"
   ]
  },
  {
   "cell_type": "markdown",
   "metadata": {},
   "source": [
    "## Train Naive SGD"
   ]
  },
  {
   "cell_type": "code",
   "execution_count": 11,
   "metadata": {},
   "outputs": [
    {
     "data": {
      "application/vnd.jupyter.widget-view+json": {
       "model_id": "eaccf30349e34d6b88cf97ce9b94f188",
       "version_major": 2,
       "version_minor": 0
      },
      "text/plain": [
       "HBox(children=(FloatProgress(value=0.0, max=2.0), HTML(value='')))"
      ]
     },
     "metadata": {},
     "output_type": "display_data"
    },
    {
     "data": {
      "application/vnd.jupyter.widget-view+json": {
       "model_id": "46884d9d2ced45e1b96b09997014c4c7",
       "version_major": 2,
       "version_minor": 0
      },
      "text/plain": [
       "HBox(children=(FloatProgress(value=0.0, max=20.0), HTML(value='')))"
      ]
     },
     "metadata": {},
     "output_type": "display_data"
    },
    {
     "name": "stdout",
     "output_type": "stream",
     "text": [
      "\n"
     ]
    },
    {
     "data": {
      "application/vnd.jupyter.widget-view+json": {
       "model_id": "2876c8e2428846a09fe390672a9c435a",
       "version_major": 2,
       "version_minor": 0
      },
      "text/plain": [
       "HBox(children=(FloatProgress(value=0.0, max=20.0), HTML(value='')))"
      ]
     },
     "metadata": {},
     "output_type": "display_data"
    },
    {
     "name": "stdout",
     "output_type": "stream",
     "text": [
      "\n",
      "\n"
     ]
    }
   ],
   "source": [
    "random.seed(seed)\n",
    "np.random.seed(seed)\n",
    "torch.manual_seed(seed)\n",
    "\n",
    "model = Model().to(device)\n",
    "model.reset()\n",
    "\n",
    "random.seed(seed)\n",
    "np.random.seed(seed)\n",
    "torch.manual_seed(seed)\n",
    "\n",
    "## Perform training\n",
    "loss, acc = {}, {}\n",
    "for task in tqdm(range(num_task)):\n",
    "    loss[task] = []\n",
    "    acc[task] = []\n",
    "    for _ in tqdm(range(epochs)):\n",
    "        model.train()\n",
    "        optimizer = torch.optim.Adam(params=model.parameters(),lr=lr)\n",
    "        loss[task].append(train_test_model.train_classifier(model=model,\n",
    "                                                            optimizer=optimizer,\n",
    "                                                            data_loader=train_loader[task],\n",
    "                                                            device=device))            \n",
    "        for sub_task in range(task + 1):\n",
    "            acc[sub_task].append(train_test_model.test_classifier(model=model,\n",
    "                                                                 data_loader=test_loader[sub_task],\n",
    "                                                                 device=device))"
   ]
  },
  {
   "cell_type": "code",
   "execution_count": 12,
   "metadata": {},
   "outputs": [
    {
     "data": {
      "image/png": "[encoded data removed]",
      "text/plain": [
       "<Figure size 720x360 with 2 Axes>"
      ]
     },
     "metadata": {},
     "output_type": "display_data"
    }
   ],
   "source": [
    "fig, ax=plt.subplots(1,2,figsize=(10,5))\n",
    "for t, v in loss.items():\n",
    "    ax[0].plot(list(range(t * epochs, (t + 1) * epochs)), v,linewidth=3)\n",
    "ax[0].set_xlabel('Epochs',fontsize=14)\n",
    "ax[0].set_title('Training loss for the %d tasks'%(num_task),fontsize=14)\n",
    "for t, v in acc.items():\n",
    "    ax[1].plot(list(range(t * epochs, num_task * epochs)), v,linewidth=3)\n",
    "ax[1].set_ylim(0, 1)\n",
    "ax[1].set_xlabel('Epochs',fontsize=14)\n",
    "ax[1].set_title('Testing accuracy for the %d tasks'%(num_task),fontsize=14)\n",
    "fig.suptitle('Using plain MLP',fontsize=18)\n",
    "plt.show()"
   ]
  },
  {
   "cell_type": "markdown",
   "metadata": {},
   "source": [
    "## Train diagonal EWC"
   ]
  },
  {
   "cell_type": "code",
   "execution_count": 9,
   "metadata": {},
   "outputs": [
    {
     "data": {
      "application/vnd.jupyter.widget-view+json": {
       "model_id": "dc5dda4687684768909db8caf0c607df",
       "version_major": 2,
       "version_minor": 0
      },
      "text/plain": [
       "HBox(children=(FloatProgress(value=0.0, max=2.0), HTML(value='')))"
      ]
     },
     "metadata": {},
     "output_type": "display_data"
    },
    {
     "data": {
      "application/vnd.jupyter.widget-view+json": {
       "model_id": "c2564da4f9094e64bbeb46fb2a7d51ba",
       "version_major": 2,
       "version_minor": 0
      },
      "text/plain": [
       "HBox(children=(FloatProgress(value=0.0, max=20.0), HTML(value='')))"
      ]
     },
     "metadata": {},
     "output_type": "display_data"
    },
    {
     "name": "stdout",
     "output_type": "stream",
     "text": [
      "\n"
     ]
    },
    {
     "data": {
      "application/vnd.jupyter.widget-view+json": {
       "model_id": "0d40666d560340baadefcbae758b4e03",
       "version_major": 2,
       "version_minor": 0
      },
      "text/plain": [
       "HBox(children=(FloatProgress(value=0.0, max=20.0), HTML(value='')))"
      ]
     },
     "metadata": {},
     "output_type": "display_data"
    },
    {
     "name": "stdout",
     "output_type": "stream",
     "text": [
      "\n",
      "\n"
     ]
    }
   ],
   "source": [
    "ewc_alpha=0.25\n",
    "ewc_importance = 1e8\n",
    "n_sketch = 50\n",
    "\n",
    "random.seed(seed)\n",
    "np.random.seed(seed)\n",
    "torch.manual_seed(seed)\n",
    "\n",
    "model = Model().to(device)\n",
    "model.reset()\n",
    "\n",
    "random.seed(seed)\n",
    "np.random.seed(seed)\n",
    "torch.manual_seed(seed)\n",
    "\n",
    "loss_ewc, acc_ewc = {}, {}\n",
    "for task in tqdm(range(num_task)):\n",
    "    loss_ewc[task] = []\n",
    "    acc_ewc[task] = []\n",
    "    for _ in tqdm(range(epochs)):\n",
    "        optimizer = torch.optim.Adam(params=model.parameters(),lr=lr)\n",
    "        ewc = OnlineEWC(model,device=device,alpha=ewc_alpha)\n",
    "        loss_ewc[task].append(train_test_model.onlineEWC_train_classifier(ewc=ewc,\n",
    "                                                                      optimizer=optimizer,\n",
    "                                                                      data_loader=train_loader[task],\n",
    "                                                                      importance=ewc_importance,\n",
    "                                                                      device=device))            \n",
    "        for sub_task in range(task + 1):\n",
    "            acc_ewc[sub_task].append(train_test_model.test_classifier(model=model,\n",
    "                                                                 data_loader=test_loader[sub_task],\n",
    "                                                                 device=device))"
   ]
  },
  {
   "cell_type": "code",
   "execution_count": 11,
   "metadata": {},
   "outputs": [
    {
     "data": {
      "image/png": "[encoded data removed]",
      "text/plain": [
       "<Figure size 720x360 with 2 Axes>"
      ]
     },
     "metadata": {},
     "output_type": "display_data"
    }
   ],
   "source": [
    "fig, ax=plt.subplots(1,2,figsize=(10,5))\n",
    "for t, v in loss_ewc.items():\n",
    "    ax[0].plot(list(range(t * epochs, (t + 1) * epochs)), v,linewidth=3)\n",
    "ax[0].set_xlabel('Epochs',fontsize=14)\n",
    "ax[0].set_title('Training loss for the %d tasks'%(num_task),fontsize=14)\n",
    "for t, v in acc_ewc.items():\n",
    "    ax[1].plot(list(range(t * epochs, num_task * epochs)), v,linewidth=3)\n",
    "ax[1].set_ylim(0, 1)\n",
    "ax[1].set_xlabel('Epochs',fontsize=14)\n",
    "ax[1].set_title('Testing accuracy for the %d tasks'%(num_task),fontsize=14)\n",
    "fig.suptitle('Using diagonal EWC',fontsize=18)\n",
    "plt.show()"
   ]
  },
  {
   "cell_type": "markdown",
   "metadata": {},
   "source": [
    "## Train sketched EWC"
   ]
  },
  {
   "cell_type": "code",
   "execution_count": 21,
   "metadata": {},
   "outputs": [
    {
     "data": {
      "application/vnd.jupyter.widget-view+json": {
       "model_id": "556d86e8af2448759815c6be55a3bdc6",
       "version_major": 2,
       "version_minor": 0
      },
      "text/plain": [
       "HBox(children=(FloatProgress(value=0.0, max=2.0), HTML(value='')))"
      ]
     },
     "metadata": {},
     "output_type": "display_data"
    },
    {
     "data": {
      "application/vnd.jupyter.widget-view+json": {
       "model_id": "afc2677a6fff4649a9af6b66f9e6bab1",
       "version_major": 2,
       "version_minor": 0
      },
      "text/plain": [
       "HBox(children=(FloatProgress(value=0.0, max=20.0), HTML(value='')))"
      ]
     },
     "metadata": {},
     "output_type": "display_data"
    },
    {
     "name": "stdout",
     "output_type": "stream",
     "text": [
      "\n"
     ]
    },
    {
     "data": {
      "application/vnd.jupyter.widget-view+json": {
       "model_id": "a16cf694d62a4b199371792ec066b3f0",
       "version_major": 2,
       "version_minor": 0
      },
      "text/plain": [
       "HBox(children=(FloatProgress(value=0.0, max=20.0), HTML(value='')))"
      ]
     },
     "metadata": {},
     "output_type": "display_data"
    },
    {
     "name": "stdout",
     "output_type": "stream",
     "text": [
      "\n",
      "\n"
     ]
    }
   ],
   "source": [
    "sketch_ewc_alpha=0.25\n",
    "sketch_ewc_importance = 1e4\n",
    "n_sketch = 50\n",
    "\n",
    "random.seed(seed)\n",
    "np.random.seed(seed)\n",
    "torch.manual_seed(seed)\n",
    "\n",
    "## define a convnet model\n",
    "model = Model().to(device)\n",
    "model.reset()\n",
    "\n",
    "random.seed(seed)\n",
    "np.random.seed(seed)\n",
    "torch.manual_seed(seed)\n",
    "\n",
    "sketch_ewc = SketchEWC(model,device=device,alpha=sketch_ewc_alpha,n_bucket=n_sketch)\n",
    "## performing training\n",
    "loss_sketch_ewc, acc_sketch_ewc = {}, {}\n",
    "for task in tqdm(range(num_task)):\n",
    "    loss_sketch_ewc[task] = []\n",
    "    acc_sketch_ewc[task] = []\n",
    "    for _ in tqdm(range(epochs)):\n",
    "        optimizer = torch.optim.Adam(params=model.parameters(),lr=lr)\n",
    "        loss_sketch_ewc[task].append(train_test_model.onlineEWC_train_classifier(ewc=sketch_ewc,\n",
    "                                                                    optimizer=optimizer,\n",
    "                                                                    data_loader=train_loader[task],\n",
    "                                                                    importance=sketch_ewc_importance,\n",
    "                                                                    device=device))\n",
    "        for sub_task in range(task + 1):\n",
    "            acc_sketch_ewc[sub_task].append(train_test_model.test_classifier(model=sketch_ewc.model,\n",
    "                                                                      data_loader=test_loader[sub_task],\n",
    "                                                                      device=device))\n",
    "    sketch_ewc.consolidate(train_loader[task])"
   ]
  },
  {
   "cell_type": "code",
   "execution_count": 22,
   "metadata": {},
   "outputs": [
    {
     "data": {
      "image/png": "[encoded data removed]",
      "text/plain": [
       "<Figure size 720x360 with 2 Axes>"
      ]
     },
     "metadata": {},
     "output_type": "display_data"
    }
   ],
   "source": [
    "fig, ax=plt.subplots(1,2,figsize=(10,5))\n",
    "for t, v in loss_sketch_ewc.items():\n",
    "    ax[0].plot(list(range(t * epochs, (t + 1) * epochs)), v,linewidth=3)\n",
    "ax[0].set_xlabel('Epochs',fontsize=14)\n",
    "ax[0].set_title('Training loss for the %d tasks'%(num_task),fontsize=14)\n",
    "for t, v in acc_sketch_ewc.items():\n",
    "    ax[1].plot(list(range(t * epochs, num_task * epochs)), v,linewidth=3)\n",
    "ax[1].set_ylim(0, 1)\n",
    "ax[1].set_xlabel('Epochs',fontsize=14)\n",
    "ax[1].set_title('Testing accuracy for the %d tasks'%(num_task),fontsize=14)\n",
    "fig.suptitle('Using sketched EWC',fontsize=18)\n",
    "plt.show()"
   ]
  },
  {
   "cell_type": "markdown",
   "metadata": {},
   "source": [
    "## Train k-fac EWC"
   ]
  },
  {
   "cell_type": "code",
   "execution_count": 10,
   "metadata": {},
   "outputs": [
    {
     "data": {
      "application/vnd.jupyter.widget-view+json": {
       "model_id": "92737ebddfb74acfb397855cf3f99a80",
       "version_major": 2,
       "version_minor": 0
      },
      "text/plain": [
       "HBox(children=(FloatProgress(value=0.0, max=2.0), HTML(value='')))"
      ]
     },
     "metadata": {},
     "output_type": "display_data"
    },
    {
     "data": {
      "application/vnd.jupyter.widget-view+json": {
       "model_id": "14a93d6cc4bc431a80319c58d20a48c8",
       "version_major": 2,
       "version_minor": 0
      },
      "text/plain": [
       "HBox(children=(FloatProgress(value=0.0, max=20.0), HTML(value='')))"
      ]
     },
     "metadata": {},
     "output_type": "display_data"
    },
    {
     "name": "stdout",
     "output_type": "stream",
     "text": [
      "\n"
     ]
    },
    {
     "data": {
      "application/vnd.jupyter.widget-view+json": {
       "model_id": "eec289a2c6e34582be468b3020b63526",
       "version_major": 2,
       "version_minor": 0
      },
      "text/plain": [
       "HBox(children=(FloatProgress(value=0.0, max=20.0), HTML(value='')))"
      ]
     },
     "metadata": {},
     "output_type": "display_data"
    },
    {
     "name": "stdout",
     "output_type": "stream",
     "text": [
      "\n",
      "\n"
     ]
    }
   ],
   "source": [
    "kfac_ewc_alpha=0.25\n",
    "kfac_ewc_importance = 1e4\n",
    "\n",
    "random.seed(seed)\n",
    "np.random.seed(seed)\n",
    "torch.manual_seed(seed)\n",
    "\n",
    "## define a convnet model\n",
    "model = Model().to(device)\n",
    "model.reset()\n",
    "\n",
    "random.seed(seed)\n",
    "np.random.seed(seed)\n",
    "torch.manual_seed(seed)\n",
    "\n",
    "kfac_ewc = KfacEWC(model,device=device,decay=1-kfac_ewc_alpha,weight=kfac_ewc_alpha)\n",
    "## performing training\n",
    "loss_kfac_ewc, acc_kfac_ewc = {}, {}\n",
    "for task in tqdm(range(num_task)):\n",
    "    loss_kfac_ewc[task] = []\n",
    "    acc_kfac_ewc[task] = []\n",
    "    \n",
    "    kfac_ewc.reset_current_cov()\n",
    "    for _ in tqdm(range(epochs)):\n",
    "        optimizer = torch.optim.Adam(params=model.parameters(),lr=lr)\n",
    "        loss_kfac_ewc[task].append(train_test_model.kfac_train_classifier(\n",
    "            regularizer=kfac_ewc,\n",
    "            optimizer=optimizer,\n",
    "            data_loader=train_loader[task],\n",
    "            importance=kfac_ewc_importance,\n",
    "            device=device))\n",
    "        for sub_task in range(task + 1):\n",
    "            acc_kfac_ewc[sub_task].append(train_test_model.test_classifier(\n",
    "                model=kfac_ewc.model,\n",
    "                data_loader=test_loader[sub_task],\n",
    "                device=device))\n",
    "    kfac_ewc.consolidate()"
   ]
  },
  {
   "cell_type": "code",
   "execution_count": 11,
   "metadata": {},
   "outputs": [
    {
     "data": {
      "image/png": "[encoded data removed]",
      "text/plain": [
       "<Figure size 720x360 with 2 Axes>"
      ]
     },
     "metadata": {},
     "output_type": "display_data"
    }
   ],
   "source": [
    "fig, ax=plt.subplots(1,2,figsize=(10,5))\n",
    "for t, v in loss_kfac_ewc.items():\n",
    "    ax[0].plot(list(range(t * epochs, (t + 1) * epochs)), v,linewidth=3)\n",
    "ax[0].set_xlabel('Epochs',fontsize=14)\n",
    "ax[0].set_title('Training loss for the %d tasks'%(num_task),fontsize=14)\n",
    "for t, v in acc_kfac_ewc.items():\n",
    "    ax[1].plot(list(range(t * epochs, num_task * epochs)), v,linewidth=3)\n",
    "ax[1].set_ylim(0, 1)\n",
    "ax[1].set_xlabel('Epochs',fontsize=14)\n",
    "ax[1].set_title('Testing accuracy for the %d tasks'%(num_task),fontsize=14)\n",
    "fig.suptitle('Using k-fac EWC',fontsize=18)\n",
    "plt.show()"
   ]
  },
  {
   "cell_type": "markdown",
   "metadata": {},
   "source": [
    "## Train full EWC"
   ]
  },
  {
   "cell_type": "code",
   "execution_count": 13,
   "metadata": {},
   "outputs": [
    {
     "data": {
      "application/vnd.jupyter.widget-view+json": {
       "model_id": "59c25e4587ce4f4abd0a3f9a5365fe8f",
       "version_major": 2,
       "version_minor": 0
      },
      "text/plain": [
       "HBox(children=(FloatProgress(value=0.0, max=2.0), HTML(value='')))"
      ]
     },
     "metadata": {},
     "output_type": "display_data"
    },
    {
     "data": {
      "application/vnd.jupyter.widget-view+json": {
       "model_id": "3b32182b2d644102b6c0c07b86f3fa73",
       "version_major": 2,
       "version_minor": 0
      },
      "text/plain": [
       "HBox(children=(FloatProgress(value=0.0, max=20.0), HTML(value='')))"
      ]
     },
     "metadata": {},
     "output_type": "display_data"
    },
    {
     "name": "stdout",
     "output_type": "stream",
     "text": [
      "\n"
     ]
    },
    {
     "data": {
      "application/vnd.jupyter.widget-view+json": {
       "model_id": "6b4e7d8f8649492c98f36598d6109865",
       "version_major": 2,
       "version_minor": 0
      },
      "text/plain": [
       "HBox(children=(FloatProgress(value=0.0, max=20.0), HTML(value='')))"
      ]
     },
     "metadata": {},
     "output_type": "display_data"
    },
    {
     "name": "stdout",
     "output_type": "stream",
     "text": [
      "\n",
      "\n"
     ]
    }
   ],
   "source": [
    "full_ewc_alpha=0.25\n",
    "full_ewc_importance=1e4\n",
    "\n",
    "random.seed(seed)\n",
    "np.random.seed(seed)\n",
    "torch.manual_seed(seed)\n",
    "\n",
    "## define a MLP model\n",
    "model = Model().to(device)\n",
    "model.reset()\n",
    "\n",
    "random.seed(seed)\n",
    "np.random.seed(seed)\n",
    "torch.manual_seed(seed)\n",
    "\n",
    "full_ewc= FullEWC(model,device=device,alpha=full_ewc_alpha)\n",
    "## performing training\n",
    "loss_full_ewc, acc_full_ewc = {}, {}\n",
    "for task in tqdm(range(num_task)):\n",
    "    loss_full_ewc[task] = []\n",
    "    acc_full_ewc[task] = []\n",
    "    for _ in tqdm(range(epochs)):\n",
    "        optimizer = torch.optim.Adam(params=model.parameters(),lr=lr)\n",
    "        loss_full_ewc[task].append(train_test_model.onlineEWC_train_classifier(ewc=full_ewc,\n",
    "                                                                      optimizer=optimizer,\n",
    "                                                                      data_loader=train_loader[task],\n",
    "                                                                      importance=full_ewc_importance,\n",
    "                                                                      device=device))                           \n",
    "        for sub_task in range(task + 1):\n",
    "            acc_full_ewc[sub_task].append(train_test_model.test_classifier(model=full_ewc.model,\n",
    "                                                                 data_loader=test_loader[sub_task],\n",
    "                                                                 device=device))        \n",
    "    if not task == num_task - 1: \n",
    "        full_ewc.consolidate(train_loader[task])\n"
   ]
  },
  {
   "cell_type": "code",
   "execution_count": 14,
   "metadata": {},
   "outputs": [
    {
     "data": {
      "image/png": "[encoded data removed]",
      "text/plain": [
       "<Figure size 720x360 with 2 Axes>"
      ]
     },
     "metadata": {},
     "output_type": "display_data"
    }
   ],
   "source": [
    "fig, ax=plt.subplots(1,2,figsize=(10,5))\n",
    "for t, v in loss_full_ewc.items():\n",
    "    ax[0].plot(list(range(t * epochs, (t + 1) * epochs)), v,linewidth=3)\n",
    "ax[0].set_xlabel('Epochs',fontsize=14)\n",
    "ax[0].set_title('Training loss for the %d tasks'%(num_task),fontsize=14)\n",
    "for t, v in acc_full_ewc.items():\n",
    "    ax[1].plot(list(range(t * epochs, num_task * epochs)), v,linewidth=3)\n",
    "ax[1].set_ylim(0, 1)\n",
    "ax[1].set_xlabel('Epochs',fontsize=14)\n",
    "ax[1].set_title('Testing accuracy for the %d tasks'%(num_task),fontsize=14)\n",
    "fig.suptitle('Using Full IM on EWC',fontsize=18)\n",
    "plt.show()"
   ]
  },
  {
   "cell_type": "markdown",
   "metadata": {},
   "source": [
    "## Train block-diagonal EWC"
   ]
  },
  {
   "cell_type": "code",
   "execution_count": 15,
   "metadata": {},
   "outputs": [
    {
     "data": {
      "application/vnd.jupyter.widget-view+json": {
       "model_id": "2b685f24981b4d7299892352c52f17c9",
       "version_major": 2,
       "version_minor": 0
      },
      "text/plain": [
       "HBox(children=(FloatProgress(value=0.0, max=2.0), HTML(value='')))"
      ]
     },
     "metadata": {},
     "output_type": "display_data"
    },
    {
     "data": {
      "application/vnd.jupyter.widget-view+json": {
       "model_id": "e01821c3a78b458ba62f2d468cb4e754",
       "version_major": 2,
       "version_minor": 0
      },
      "text/plain": [
       "HBox(children=(FloatProgress(value=0.0, max=20.0), HTML(value='')))"
      ]
     },
     "metadata": {},
     "output_type": "display_data"
    },
    {
     "name": "stdout",
     "output_type": "stream",
     "text": [
      "\n"
     ]
    },
    {
     "data": {
      "application/vnd.jupyter.widget-view+json": {
       "model_id": "2361fd986fc84701954fd3fad7baa3a3",
       "version_major": 2,
       "version_minor": 0
      },
      "text/plain": [
       "HBox(children=(FloatProgress(value=0.0, max=20.0), HTML(value='')))"
      ]
     },
     "metadata": {},
     "output_type": "display_data"
    },
    {
     "name": "stdout",
     "output_type": "stream",
     "text": [
      "\n",
      "\n"
     ]
    }
   ],
   "source": [
    "block_diagonal_ewc_alpha=0.25\n",
    "block_diagonal_ewc_importance=1e4\n",
    "\n",
    "random.seed(seed)\n",
    "np.random.seed(seed)\n",
    "torch.manual_seed(seed)\n",
    "\n",
    "## define a MLP model\n",
    "model = Model().to(device)\n",
    "model.reset()\n",
    "\n",
    "random.seed(seed)\n",
    "np.random.seed(seed)\n",
    "torch.manual_seed(seed)\n",
    "\n",
    "block_diagonal_ewc= BlockDiagonalEWC(model,device=device,alpha=block_diagonal_ewc_alpha)\n",
    "## performing training\n",
    "loss_block_diagonal_ewc, acc_block_diagonal_ewc = {}, {}\n",
    "for task in tqdm(range(num_task)):\n",
    "    loss_block_diagonal_ewc[task] = []\n",
    "    acc_block_diagonal_ewc[task] = []\n",
    "    for _ in tqdm(range(epochs)):\n",
    "        optimizer = torch.optim.Adam(params=model.parameters(),lr=lr)\n",
    "        loss_block_diagonal_ewc[task].append(train_test_model.onlineEWC_train_classifier(ewc=block_diagonal_ewc,\n",
    "                                                                      optimizer=optimizer,\n",
    "                                                                      data_loader=train_loader[task],\n",
    "                                                                      importance=block_diagonal_ewc_importance,\n",
    "                                                                      device=device))                           \n",
    "        for sub_task in range(task + 1):\n",
    "            acc_block_diagonal_ewc[sub_task].append(train_test_model.test_classifier(model=block_diagonal_ewc.model,\n",
    "                                                                 data_loader=test_loader[sub_task],\n",
    "                                                                 device=device))        \n",
    "    if not task == num_task - 1: \n",
    "        block_diagonal_ewc.consolidate(train_loader[task])"
   ]
  },
  {
   "cell_type": "code",
   "execution_count": 16,
   "metadata": {},
   "outputs": [
    {
     "data": {
      "image/png": "[encoded data removed]",
      "text/plain": [
       "<Figure size 720x360 with 2 Axes>"
      ]
     },
     "metadata": {},
     "output_type": "display_data"
    }
   ],
   "source": [
    "fig, ax=plt.subplots(1,2,figsize=(10,5))\n",
    "for t, v in loss_block_diagonal_ewc.items():\n",
    "    ax[0].plot(list(range(t * epochs, (t + 1) * epochs)), v,linewidth=3)\n",
    "ax[0].set_xlabel('Epochs',fontsize=14)\n",
    "ax[0].set_title('Training loss for the %d tasks'%(num_task),fontsize=14)\n",
    "for t, v in acc_block_diagonal_ewc.items():\n",
    "    ax[1].plot(list(range(t * epochs, num_task * epochs)), v,linewidth=3)\n",
    "ax[1].set_ylim(0, 1)\n",
    "ax[1].set_xlabel('Epochs',fontsize=14)\n",
    "ax[1].set_title('Testing accuracy for the %d tasks'%(num_task),fontsize=14)\n",
    "fig.suptitle('Using block-diagonal on EWC',fontsize=18)\n",
    "plt.show()"
   ]
  },
  {
   "cell_type": "markdown",
   "metadata": {},
   "source": [
    "## Approximation Error"
   ]
  },
  {
   "cell_type": "code",
   "execution_count": 17,
   "metadata": {},
   "outputs": [],
   "source": [
    "fim=full_ewc.fim.to('cpu')\n",
    "block_diagonal_fim=block_diagonal_ewc.fim.to('cpu')"
   ]
  },
  {
   "cell_type": "code",
   "execution_count": 19,
   "metadata": {},
   "outputs": [
    {
     "name": "stdout",
     "output_type": "stream",
     "text": [
      "tensor(0.7212)\n"
     ]
    }
   ],
   "source": [
    "print(((fim-block_diagonal_fim)**2).sum()/(fim**2).sum())"
   ]
  },
  {
   "cell_type": "code",
   "execution_count": 3,
   "metadata": {},
   "outputs": [
    {
     "ename": "NameError",
     "evalue": "name 'fim' is not defined",
     "output_type": "error",
     "traceback": [
      "Traceback \u001b[0;36m(most recent call last)\u001b[0m:\n",
      "\u001b[0;36m  File \u001b[0;32m\"<ipython-input-3-b6f25b11cbbc>\"\u001b[0;36m, line \u001b[0;32m1\u001b[0;36m, in \u001b[0;35m<module>\u001b[0;36m\u001b[0m\n\u001b[0;31m    ((fim-block_diagonal_fim)**2).min()\u001b[0m\n",
      "\u001b[0;31mNameError\u001b[0m\u001b[0;31m:\u001b[0m name 'fim' is not defined\n"
     ]
    }
   ],
   "source": [
    "((fim-block_diagonal_fim)**2).min()"
   ]
  },
  {
   "cell_type": "code",
   "execution_count": null,
   "metadata": {},
   "outputs": [],
   "source": []
  },
  {
   "cell_type": "code",
   "execution_count": 24,
   "metadata": {},
   "outputs": [
    {
     "name": "stdout",
     "output_type": "stream",
     "text": [
      "0.8705 0.9027\n",
      "0.9661 0.8874\n"
     ]
    }
   ],
   "source": [
    "print(acc_full_ewc[0][-1], acc_full_ewc[1][-1])\n",
    "print(acc_block_diagonal_ewc[0][-1], acc_block_diagonal_ewc[1][-1])"
   ]
  },
  {
   "cell_type": "code",
   "execution_count": 26,
   "metadata": {},
   "outputs": [],
   "source": [
    "matrix = fim-block_diagonal_fim"
   ]
  },
  {
   "cell_type": "code",
   "execution_count": 29,
   "metadata": {},
   "outputs": [
    {
     "name": "stdout",
     "output_type": "stream",
     "text": [
      "[2.64413191e-06 1.51883523e-05 4.02990045e-05 8.66811315e-05\n",
      " 1.79110415e-04 4.17071728e-04 6.26397431e-02]\n"
     ]
    }
   ],
   "source": [
    "q=np.quantile(abs(matrix).reshape(-1),np.linspace(0.3,1,7))\n",
    "print(q)"
   ]
  },
  {
   "cell_type": "code",
   "execution_count": null,
   "metadata": {},
   "outputs": [],
   "source": [
    "B=np.sign(matrix)*np.argmin(abs(abs(matrix).reshape(-1)[:,np.newaxis]-q[np.newaxis,:]),1).reshape(matrix.shape[0],matrix.shape[1])/10\n",
    "# B=np.argmin(abs(abs(B).reshape(-1)[:,np.newaxis]-q[np.newaxis,:]),1).reshape(B.shape[0],B.shape[1])\n",
    "\n",
    "fig=plt.figure(figsize=(10,10))\n",
    "osetx=0\n",
    "osety=osetx\n",
    "plt.xticks([])\n",
    "plt.yticks([])\n",
    "plt.imshow(B[osetx:-1,osety:-1],cmap='RdBu')"
   ]
  },
  {
   "cell_type": "code",
   "execution_count": 2,
   "metadata": {},
   "outputs": [],
   "source": [
    "import torch\n",
    "def get_BD(A,arch=[196,40,40,40,40,40,40,40,40,40,10],bias=True):\n",
    "    d=len(arch)\n",
    "    old_ind=0\n",
    "    B=torch.zeros_like(A)\n",
    "    for i in range(d-1):\n",
    "        new_ind=old_ind+arch[i]*arch[i+1]+(1*(bias==True))*arch[i+1]\n",
    "        print(old_ind,new_ind)\n",
    "        B[old_ind:new_ind,old_ind:new_ind]=1\n",
    "        old_ind=new_ind\n",
    "    return B*A"
   ]
  },
  {
   "cell_type": "code",
   "execution_count": null,
   "metadata": {},
   "outputs": [],
   "source": []
  }
 ],
 "metadata": {
  "kernelspec": {
   "display_name": "Python 3 (Spyder)",
   "language": "python3",
   "name": "python3"
  },
  "language_info": {
   "codemirror_mode": {
    "name": "ipython",
    "version": 3
   },
   "file_extension": ".py",
   "mimetype": "text/x-python",
   "name": "python",
   "nbconvert_exporter": "python",
   "pygments_lexer": "ipython3",
   "version": "3.8.3"
  }
 },
 "nbformat": 4,
 "nbformat_minor": 4
}
