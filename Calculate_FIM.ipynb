{
 "cells": [
  {
   "cell_type": "markdown",
   "metadata": {},
   "source": [
    "# Calculating the FIM Matrix\n",
    "\n",
    "This notebook calculates the FIM matrix for a small MLP after learning the toy dataset."
   ]
  },
  {
   "cell_type": "code",
   "execution_count": 1,
   "metadata": {},
   "outputs": [
    {
     "name": "stderr",
     "output_type": "stream",
     "text": [
      "C:\\ProgramData\\Anaconda3\\lib\\site-packages\\sklearn\\utils\\deprecation.py:144: FutureWarning: The sklearn.datasets.samples_generator module is  deprecated in version 0.22 and will be removed in version 0.24. The corresponding classes / functions should instead be imported from sklearn.datasets. Anything that cannot be imported from sklearn.datasets is now part of the private API.\n",
      "  warnings.warn(message, FutureWarning)\n"
     ]
    }
   ],
   "source": [
    "%load_ext autoreload\n",
    "%autoreload 2\n",
    "\n",
    "import numpy as np\n",
    "\n",
    "import torch\n",
    "from torch import nn\n",
    "from torch.nn import functional as F\n",
    "from torch.utils.data.dataloader import DataLoader\n",
    "\n",
    "import matplotlib.pyplot as plt\n",
    "from tqdm.notebook import tqdm\n",
    "import random\n",
    "import pickle\n",
    "\n",
    "from utils import mlp,train_test_model\n",
    "from utils.ewc_utils.ToyExampleEWC import FullEWC, LowRankEWC, MinorDiagonalEWC, BlockDiagonalEWC\n",
    "from utils.ewc_utils.ToyExampleEWC import SketchEWC\n",
    "\n",
    "from data.sequential_lines import Lines\n",
    "\n",
    "from sklearn.decomposition import TruncatedSVD"
   ]
  },
  {
   "cell_type": "code",
   "execution_count": 2,
   "metadata": {},
   "outputs": [],
   "source": [
    "## Get Configurations\n",
    "\n",
    "n_samples=1000\n",
    "epochs = 200\n",
    "lr = 1e-3\n",
    "batch_size = 100\n",
    "input_size = 2\n",
    "hidden_sizes = [128,64]\n",
    "output_size = 2\n",
    "\n",
    "num_task = 4\n",
    "\n",
    "activation='ReLU'\n",
    "slope=.1\n",
    "device='cuda:0'\n",
    "\n",
    "ewc_alpha=0.5\n",
    "\n",
    "gain={\n",
    "    'Sigmoid':1.,\n",
    "    'TanH':1.,\n",
    "    'ReLU':np.sqrt(2.),\n",
    "    'leakyReLU':np.sqrt(2./(1.+slope**2))\n",
    "}"
   ]
  },
  {
   "cell_type": "code",
   "execution_count": 3,
   "metadata": {},
   "outputs": [],
   "source": [
    "def weights_init(m):\n",
    "    if isinstance(m, torch.nn.Conv2d) or isinstance(m, torch.nn.Linear):        \n",
    "        torch.nn.init.xavier_uniform_(m.weight,gain=gain[activation])\n",
    "        if m.bias: \n",
    "            torch.nn.init.xavier_uniform_(m.bias,gain=gain[activation])"
   ]
  },
  {
   "cell_type": "code",
   "execution_count": 4,
   "metadata": {},
   "outputs": [],
   "source": [
    "X,Y=torch.meshgrid(torch.linspace(-0.5,2.5,150),torch.linspace(-0.75,1.25,100))\n",
    "grid=torch.stack([X.reshape(-1),Y.reshape(-1)]).T"
   ]
  },
  {
   "cell_type": "code",
   "execution_count": 6,
   "metadata": {},
   "outputs": [
    {
     "data": {
      "application/vnd.jupyter.widget-view+json": {
       "model_id": "707a53760e984a098bf32d8f6676c023",
       "version_major": 2,
       "version_minor": 0
      },
      "text/plain": [
       "HBox(children=(FloatProgress(value=0.0, max=200.0), HTML(value='')))"
      ]
     },
     "metadata": {},
     "output_type": "display_data"
    },
    {
     "name": "stdout",
     "output_type": "stream",
     "text": [
      "\n"
     ]
    },
    {
     "data": {
      "application/vnd.jupyter.widget-view+json": {
       "model_id": "bd8f6bc6442c4e3dafa2dc27c2a76d9f",
       "version_major": 2,
       "version_minor": 0
      },
      "text/plain": [
       "HBox(children=(FloatProgress(value=0.0, max=200.0), HTML(value='')))"
      ]
     },
     "metadata": {},
     "output_type": "display_data"
    },
    {
     "name": "stdout",
     "output_type": "stream",
     "text": [
      "\n"
     ]
    },
    {
     "data": {
      "application/vnd.jupyter.widget-view+json": {
       "model_id": "6200fac268d4452f823a8cbb9d6691d4",
       "version_major": 2,
       "version_minor": 0
      },
      "text/plain": [
       "HBox(children=(FloatProgress(value=0.0, max=200.0), HTML(value='')))"
      ]
     },
     "metadata": {},
     "output_type": "display_data"
    },
    {
     "name": "stdout",
     "output_type": "stream",
     "text": [
      "\n"
     ]
    },
    {
     "data": {
      "application/vnd.jupyter.widget-view+json": {
       "model_id": "9b1ce38ed1ad43c1938b52dcb9a521d2",
       "version_major": 2,
       "version_minor": 0
      },
      "text/plain": [
       "HBox(children=(FloatProgress(value=0.0, max=200.0), HTML(value='')))"
      ]
     },
     "metadata": {},
     "output_type": "display_data"
    },
    {
     "name": "stdout",
     "output_type": "stream",
     "text": [
      "\n"
     ]
    },
    {
     "data": {
      "application/vnd.jupyter.widget-view+json": {
       "model_id": "f279b5aa0346453f85bb09ca4235d4ff",
       "version_major": 2,
       "version_minor": 0
      },
      "text/plain": [
       "HBox(children=(FloatProgress(value=0.0, max=200.0), HTML(value='')))"
      ]
     },
     "metadata": {},
     "output_type": "display_data"
    },
    {
     "name": "stdout",
     "output_type": "stream",
     "text": [
      "\n"
     ]
    }
   ],
   "source": [
    "full_ewc_importance=1e+5\n",
    "\n",
    "stable_rank=[]\n",
    "diagonal_error=[]\n",
    "block_diagonal_error=[]\n",
    "sketched_error=[]\n",
    "low_rank_error=[]\n",
    "\n",
    "for seed in range(5):\n",
    "    random.seed(seed)\n",
    "    np.random.seed(seed)\n",
    "    torch.manual_seed(seed)\n",
    "    datagen = Lines(max_iter=num_task, num_samples=n_samples)\n",
    "    train_loader,test_loader=datagen.get_full_lines(batch_size=batch_size)\n",
    "\n",
    "    random.seed(seed)\n",
    "    np.random.seed(seed)\n",
    "    torch.manual_seed(seed)\n",
    "\n",
    "    ## define a MLP model\n",
    "    model=mlp.MLP(input_size=input_size,output_size=output_size,\n",
    "                  hidden_size=hidden_sizes,activation=activation,\n",
    "                  require_bias=True,device=device).to(device)\n",
    "    # model.apply(weights_init)\n",
    "    full_ewc= FullEWC(model,device=device,alpha=ewc_alpha)\n",
    "\n",
    "    ## performing training\n",
    "    for _ in tqdm(range(epochs)):\n",
    "        model.train()\n",
    "        optimizer = torch.optim.Adam(params=model.parameters(),lr=lr)\n",
    "        train_test_model.train_classifier(model=model,\n",
    "                                          optimizer=optimizer,\n",
    "                                          data_loader=train_loader,\n",
    "                                          device=device) \n",
    "\n",
    "    fim=full_ewc.calculate_FIM(train_loader).to('cpu')\n",
    "    \n",
    "    diagonal_error.append(((fim-np.diag(np.diag(fim)))**2).sum()/(fim**2).sum())\n",
    "    \n",
    "    block_diagonal_ewc = BlockDiagonalEWC(model,device=device,alpha=ewc_alpha, n_bucket=50)\n",
    "    block_diagonal_fim = block_diagonal_ewc.calculate_approximation(train_loader).to('cpu')\n",
    "    block_diagonal_error.append(((fim-block_diagonal_fim)**2).sum()/(fim**2).sum())\n",
    "\n",
    "    for sketch_seed in range(5):\n",
    "        random.seed(sketch_seed)\n",
    "        np.random.seed(sketch_seed)\n",
    "        torch.manual_seed(sketch_seed)\n",
    "\n",
    "        sketch_ewc = SketchEWC(model,device=device,alpha=ewc_alpha,n_sketch=50)\n",
    "        sketched_fim = sketch_ewc.calculate_approximation(train_loader).to('cpu')\n",
    "        sketched_error.append(((fim-sketched_fim)**2).sum()/(fim**2).sum())\n",
    "        \n",
    "    u, s, v =torch.svd_lowrank(fim, q=50)\n",
    "    low_rank_approx = torch.mm(torch.mm(u, torch.diag(s)), v.t())\n",
    "    low_rank_error.append(((fim-low_rank_approx)**2).sum()/(fim**2).sum())\n",
    "\n",
    "#     svd = TruncatedSVD(n_components=500)\n",
    "#     svd.fit(fim)\n",
    "#     stable_rank.append(sum(svd.singular_values_ ** 2) / (svd.singular_values_[0] ** 2))\n",
    "\n",
    "diagonal_error = np.array(diagonal_error)\n",
    "block_diagonal_error = np.array(block_diagonal_error)\n",
    "sketched_error = np.array(sketched_error)\n",
    "low_rank_error = np.array(low_rank_error)\n",
    "# stable_rank = np.array(stable_rank)\n"
   ]
  },
  {
   "cell_type": "code",
   "execution_count": 7,
   "metadata": {},
   "outputs": [
    {
     "name": "stdout",
     "output_type": "stream",
     "text": [
      "0.94711936 0.006053829\n",
      "0.8287951 0.013002222\n",
      "0.08082563 0.10188777\n",
      "3.0142753e-11 4.8421198e-11\n"
     ]
    }
   ],
   "source": [
    "print(diagonal_error.mean(), diagonal_error.std())\n",
    "print(block_diagonal_error.mean(), block_diagonal_error.std())\n",
    "print(sketched_error.mean(), sketched_error.std())\n",
    "print(low_rank_error.mean(), low_rank_error.std())\n",
    "# print(np.array(stable_rank).mean(), np.array(stable_rank).std())"
   ]
  },
  {
   "cell_type": "code",
   "execution_count": null,
   "metadata": {},
   "outputs": [],
   "source": []
  }
 ],
 "metadata": {
  "kernelspec": {
   "display_name": "Python 3",
   "language": "python",
   "name": "python3"
  },
  "language_info": {
   "codemirror_mode": {
    "name": "ipython",
    "version": 3
   },
   "file_extension": ".py",
   "mimetype": "text/x-python",
   "name": "python",
   "nbconvert_exporter": "python",
   "pygments_lexer": "ipython3",
   "version": "3.7.6"
  }
 },
 "nbformat": 4,
 "nbformat_minor": 4
}
