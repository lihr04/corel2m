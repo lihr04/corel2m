{
 "cells": [
  {
   "cell_type": "markdown",
   "metadata": {},
   "source": [
    "# Rotated MNIST Residual"
   ]
  },
  {
   "cell_type": "code",
   "execution_count": 1,
   "metadata": {},
   "outputs": [
    {
     "name": "stdout",
     "output_type": "stream",
     "text": [
      "The autoreload extension is already loaded. To reload it, use:\n",
      "  %reload_ext autoreload\n"
     ]
    }
   ],
   "source": [
    "%load_ext autoreload\n",
    "%autoreload 2\n",
    "%matplotlib inline\n",
    "\n",
    "import torch\n",
    "from torch import nn\n",
    "from torch.nn import functional as F\n",
    "from torchvision import datasets, transforms\n",
    "from tqdm.notebook import tqdm\n",
    "\n",
    "import numpy as np\n",
    "import matplotlib.pyplot as plt\n",
    "import random\n",
    "from collections import OrderedDict\n",
    "\n",
    "from utils import mlp,train_test_model\n",
    "from utils.ewc_utils.onlineEWC import OnlineEWC\n",
    "from utils.ewc_utils.sketchEWC import SketchEWC\n",
    "from utils.ewc_utils.kfacEWC import KfacEWC\n",
    "from utils.ewc_utils.ToyExampleEWC import FullEWC, LowRankEWC, MinorDiagonalEWC, BlockDiagonalEWC\n",
    "\n",
    "from data.rotated_MNIST import get_rotated_mnist\n",
    "\n",
    "import os\n",
    "\n",
    "results_folder='perm_mnist_test/'\n",
    "\n",
    "if not os.path.isdir(results_folder):\n",
    "    os.mkdir(results_folder)"
   ]
  },
  {
   "cell_type": "markdown",
   "metadata": {},
   "source": [
    "## Set configurations"
   ]
  },
  {
   "cell_type": "code",
   "execution_count": 2,
   "metadata": {},
   "outputs": [],
   "source": [
    "epochs = 20\n",
    "lr = 1e-3\n",
    "batch_size = 100 \n",
    "num_task = 2\n",
    "\n",
    "seed = 0\n",
    "device='cuda:0'"
   ]
  },
  {
   "cell_type": "markdown",
   "metadata": {},
   "source": [
    "## Load dataset"
   ]
  },
  {
   "cell_type": "code",
   "execution_count": 3,
   "metadata": {},
   "outputs": [
    {
     "data": {
      "image/png": "[encoded data removed]",
      "text/plain": [
       "<Figure size 432x216 with 2 Axes>"
      ]
     },
     "metadata": {},
     "output_type": "display_data"
    }
   ],
   "source": [
    "random.seed(seed)\n",
    "np.random.seed(seed)\n",
    "torch.manual_seed(seed)\n",
    "\n",
    "per_task_rotation = 180.0 / num_task\n",
    "train_loader, test_loader = get_rotated_mnist(num_task,batch_size,\n",
    "                                              per_task_rotation=per_task_rotation,\n",
    "                                              num_workers=4)\n",
    "\n",
    "fig,ax=plt.subplots(1,num_task,figsize=(num_task*3,3))\n",
    "for i in range(num_task):\n",
    "    iter_data=iter(train_loader[i])\n",
    "    image,label=iter_data.next()\n",
    "    I=np.reshape(image.data[0,...].numpy(),(28,28))    \n",
    "    ax[i].imshow(I,cmap='gray')\n",
    "    ax[i].set_title(label.data[0].numpy())\n",
    "    ax[i].set_xlabel(\"Intensity in [%.2f,%.2f]\"%(I.min(),I.max()))\n",
    "# plt.show()"
   ]
  },
  {
   "cell_type": "markdown",
   "metadata": {},
   "source": [
    "## Model definition"
   ]
  },
  {
   "cell_type": "code",
   "execution_count": 4,
   "metadata": {},
   "outputs": [],
   "source": [
    "class LeNet5(nn.Module):\n",
    "    \"\"\"\n",
    "    Input - 1x32x32\n",
    "    Output - 10\n",
    "    Adopted (but slightly different) from https://github.com/activatedgeek/LeNet-5/blob/master/lenet.py\n",
    "    \"\"\"\n",
    "    def __init__(self):\n",
    "        super(LeNet5, self).__init__()\n",
    "\n",
    "        self.c1 = nn.Sequential(OrderedDict([\n",
    "            ('c1', nn.Conv2d(1, 6, kernel_size=(5, 5), padding=2)),\n",
    "            ('relu1', nn.ReLU()),\n",
    "            ('s1', nn.MaxPool2d(kernel_size=(2, 2), stride=2))\n",
    "        ]))\n",
    "        self.c2 = nn.Sequential(OrderedDict([\n",
    "            ('c2', nn.Conv2d(6, 16, kernel_size=(5, 5))),\n",
    "            ('relu2', nn.ReLU()),\n",
    "            ('s2', nn.MaxPool2d(kernel_size=(2, 2), stride=2))\n",
    "        ]))\n",
    "        self.c3 = nn.Sequential(OrderedDict([\n",
    "            ('c3', nn.Conv2d(16, 120, kernel_size=(5, 5))),\n",
    "            ('relu3', nn.ReLU())\n",
    "        ]))\n",
    "        self.f4 = nn.Sequential(OrderedDict([\n",
    "            ('f4', nn.Linear(120, 84)),\n",
    "            ('relu4', nn.ReLU())\n",
    "        ]))\n",
    "        self.f5 = nn.Sequential(OrderedDict([\n",
    "            ('f5', nn.Linear(84, 10))\n",
    "        ]))\n",
    "\n",
    "    def forward(self, img):\n",
    "        output = self.c1(img)\n",
    "        output = self.c2(output)\n",
    "        output = self.c3(output)\n",
    "        output = output.view(img.size(0), -1)\n",
    "        output = self.f4(output)\n",
    "        output = self.f5(output)\n",
    "        return output"
   ]
  },
  {
   "cell_type": "code",
   "execution_count": 5,
   "metadata": {},
   "outputs": [],
   "source": [
    "class Model(nn.Module):\n",
    "    \"\"\"\n",
    "    Input - 1x32x32\n",
    "    Output - 10\n",
    "    \"\"\"\n",
    "    def __init__(self):\n",
    "        super(Model, self).__init__()\n",
    "        \n",
    "        self.pool = nn.AvgPool2d(kernel_size=(2, 2))\n",
    "        \n",
    "        self.f1 = nn.Sequential(OrderedDict([\n",
    "            ('f1', nn.Linear(196, 64)),\n",
    "            ('relu1', nn.ReLU())\n",
    "        ]))\n",
    "        \n",
    "        self.f2 = nn.Sequential(OrderedDict([\n",
    "            ('f2', nn.Linear(64, 64)),\n",
    "            ('relu2', nn.ReLU())\n",
    "        ]))\n",
    "        \n",
    "        self.f3 = nn.Sequential(OrderedDict([\n",
    "            ('f3', nn.Linear(64, 10))\n",
    "        ]))\n",
    "\n",
    "    def forward(self, x):\n",
    "        x = self.pool(x)\n",
    "        x = x.view(x.size(0), -1)\n",
    "        x = self.f1(x)\n",
    "        x = self.f2(x) + x\n",
    "        x = self.f3(x)\n",
    "        return x\n",
    "    \n",
    "    def init_weights(self,m):\n",
    "        if type(m) == nn.Linear:\n",
    "            nn.init.xavier_uniform_(m.weight)\n",
    "            if m.bias is not None:\n",
    "                m.bias.data.fill_(0.01)\n",
    "\n",
    "    def reset(self):\n",
    "        self.f1.apply(self.init_weights)\n",
    "        self.f2.apply(self.init_weights)\n",
    "        self.f3.apply(self.init_weights)"
   ]
  },
  {
   "cell_type": "markdown",
   "metadata": {},
   "source": [
    "## Set model"
   ]
  },
  {
   "cell_type": "code",
   "execution_count": 6,
   "metadata": {},
   "outputs": [
    {
     "name": "stdout",
     "output_type": "stream",
     "text": [
      "Model(\n",
      "  (pool): AvgPool2d(kernel_size=(2, 2), stride=(2, 2), padding=0)\n",
      "  (f1): Sequential(\n",
      "    (f1): Linear(in_features=196, out_features=64, bias=True)\n",
      "    (relu1): ReLU()\n",
      "  )\n",
      "  (f2): Sequential(\n",
      "    (f2): Linear(in_features=64, out_features=64, bias=True)\n",
      "    (relu2): ReLU()\n",
      "  )\n",
      "  (f3): Sequential(\n",
      "    (f3): Linear(in_features=64, out_features=10, bias=True)\n",
      "  )\n",
      ")\n",
      "f1.f1.weight 12544\n",
      "f1.f1.bias 64\n",
      "f2.f2.weight 4096\n",
      "f2.f2.bias 64\n",
      "f3.f3.weight 640\n",
      "f3.f3.bias 10\n",
      "17418\n"
     ]
    }
   ],
   "source": [
    "model = Model()\n",
    "print(model)\n",
    "\n",
    "d=0\n",
    "for n, p in model.named_parameters():\n",
    "    print(n, p.data.view(-1).shape[0])\n",
    "    d+=p.data.view(-1).shape[0]\n",
    "print(d)"
   ]
  },
  {
   "cell_type": "markdown",
   "metadata": {},
   "source": [
    "## Train Naive SGD"
   ]
  },
  {
   "cell_type": "code",
   "execution_count": 7,
   "metadata": {},
   "outputs": [
    {
     "data": {
      "application/vnd.jupyter.widget-view+json": {
       "model_id": "71550e65b81545d4bb82a7d0ff299262",
       "version_major": 2,
       "version_minor": 0
      },
      "text/plain": [
       "HBox(children=(FloatProgress(value=0.0, max=2.0), HTML(value='')))"
      ]
     },
     "metadata": {},
     "output_type": "display_data"
    },
    {
     "data": {
      "application/vnd.jupyter.widget-view+json": {
       "model_id": "b6f3a3a996cd4bbb9eea335956118c2e",
       "version_major": 2,
       "version_minor": 0
      },
      "text/plain": [
       "HBox(children=(FloatProgress(value=0.0, max=20.0), HTML(value='')))"
      ]
     },
     "metadata": {},
     "output_type": "display_data"
    },
    {
     "name": "stdout",
     "output_type": "stream",
     "text": [
      "\n"
     ]
    },
    {
     "data": {
      "application/vnd.jupyter.widget-view+json": {
       "model_id": "7b118c3578d14626a9e1f26f810aceae",
       "version_major": 2,
       "version_minor": 0
      },
      "text/plain": [
       "HBox(children=(FloatProgress(value=0.0, max=20.0), HTML(value='')))"
      ]
     },
     "metadata": {},
     "output_type": "display_data"
    },
    {
     "name": "stdout",
     "output_type": "stream",
     "text": [
      "\n",
      "\n"
     ]
    }
   ],
   "source": [
    "random.seed(seed)\n",
    "np.random.seed(seed)\n",
    "torch.manual_seed(seed)\n",
    "\n",
    "model = Model().to(device)\n",
    "model.reset()\n",
    "\n",
    "random.seed(seed)\n",
    "np.random.seed(seed)\n",
    "torch.manual_seed(seed)\n",
    "\n",
    "## Perform training\n",
    "loss, acc = {}, {}\n",
    "for task in tqdm(range(num_task)):\n",
    "    loss[task] = []\n",
    "    acc[task] = []\n",
    "    for _ in tqdm(range(epochs)):\n",
    "        model.train()\n",
    "        optimizer = torch.optim.Adam(params=model.parameters(),lr=lr)\n",
    "        loss[task].append(train_test_model.train_classifier(model=model,\n",
    "                                                            optimizer=optimizer,\n",
    "                                                            data_loader=train_loader[task],\n",
    "                                                            device=device))            \n",
    "        for sub_task in range(task + 1):\n",
    "            acc[sub_task].append(train_test_model.test_classifier(model=model,\n",
    "                                                                 data_loader=test_loader[sub_task],\n",
    "                                                                 device=device))"
   ]
  },
  {
   "cell_type": "code",
   "execution_count": 8,
   "metadata": {},
   "outputs": [
    {
     "data": {
      "image/png": "[encoded data removed]",
      "text/plain": [
       "<Figure size 720x360 with 2 Axes>"
      ]
     },
     "metadata": {},
     "output_type": "display_data"
    }
   ],
   "source": [
    "fig, ax=plt.subplots(1,2,figsize=(10,5))\n",
    "for t, v in loss.items():\n",
    "    ax[0].plot(list(range(t * epochs, (t + 1) * epochs)), v,linewidth=3)\n",
    "ax[0].set_xlabel('Epochs',fontsize=14)\n",
    "ax[0].set_title('Training loss for the %d tasks'%(num_task),fontsize=14)\n",
    "for t, v in acc.items():\n",
    "    ax[1].plot(list(range(t * epochs, num_task * epochs)), v,linewidth=3)\n",
    "ax[1].set_ylim(0, 1)\n",
    "ax[1].set_xlabel('Epochs',fontsize=14)\n",
    "ax[1].set_title('Testing accuracy for the %d tasks'%(num_task),fontsize=14)\n",
    "fig.suptitle('Using plain MLP',fontsize=18)\n",
    "plt.show()"
   ]
  },
  {
   "cell_type": "markdown",
   "metadata": {},
   "source": [
    "## Train diagonal EWC"
   ]
  },
  {
   "cell_type": "code",
   "execution_count": 9,
   "metadata": {},
   "outputs": [
    {
     "data": {
      "application/vnd.jupyter.widget-view+json": {
       "model_id": "dc5dda4687684768909db8caf0c607df",
       "version_major": 2,
       "version_minor": 0
      },
      "text/plain": [
       "HBox(children=(FloatProgress(value=0.0, max=2.0), HTML(value='')))"
      ]
     },
     "metadata": {},
     "output_type": "display_data"
    },
    {
     "data": {
      "application/vnd.jupyter.widget-view+json": {
       "model_id": "c2564da4f9094e64bbeb46fb2a7d51ba",
       "version_major": 2,
       "version_minor": 0
      },
      "text/plain": [
       "HBox(children=(FloatProgress(value=0.0, max=20.0), HTML(value='')))"
      ]
     },
     "metadata": {},
     "output_type": "display_data"
    },
    {
     "name": "stdout",
     "output_type": "stream",
     "text": [
      "\n"
     ]
    },
    {
     "data": {
      "application/vnd.jupyter.widget-view+json": {
       "model_id": "0d40666d560340baadefcbae758b4e03",
       "version_major": 2,
       "version_minor": 0
      },
      "text/plain": [
       "HBox(children=(FloatProgress(value=0.0, max=20.0), HTML(value='')))"
      ]
     },
     "metadata": {},
     "output_type": "display_data"
    },
    {
     "name": "stdout",
     "output_type": "stream",
     "text": [
      "\n",
      "\n"
     ]
    }
   ],
   "source": [
    "ewc_alpha=0.25\n",
    "ewc_importance = 1e8\n",
    "n_sketch = 50\n",
    "\n",
    "random.seed(seed)\n",
    "np.random.seed(seed)\n",
    "torch.manual_seed(seed)\n",
    "\n",
    "model = Model().to(device)\n",
    "model.reset()\n",
    "\n",
    "random.seed(seed)\n",
    "np.random.seed(seed)\n",
    "torch.manual_seed(seed)\n",
    "\n",
    "loss_ewc, acc_ewc = {}, {}\n",
    "for task in tqdm(range(num_task)):\n",
    "    loss_ewc[task] = []\n",
    "    acc_ewc[task] = []\n",
    "    for _ in tqdm(range(epochs)):\n",
    "        optimizer = torch.optim.Adam(params=model.parameters(),lr=lr)\n",
    "        ewc = OnlineEWC(model,device=device,alpha=ewc_alpha)\n",
    "        loss_ewc[task].append(train_test_model.onlineEWC_train_classifier(ewc=ewc,\n",
    "                                                                      optimizer=optimizer,\n",
    "                                                                      data_loader=train_loader[task],\n",
    "                                                                      importance=ewc_importance,\n",
    "                                                                      device=device))            \n",
    "        for sub_task in range(task + 1):\n",
    "            acc_ewc[sub_task].append(train_test_model.test_classifier(model=model,\n",
    "                                                                 data_loader=test_loader[sub_task],\n",
    "                                                                 device=device))"
   ]
  },
  {
   "cell_type": "code",
   "execution_count": 11,
   "metadata": {},
   "outputs": [
    {
     "data": {
      "image/png": "[encoded data removed]",
      "text/plain": [
       "<Figure size 720x360 with 2 Axes>"
      ]
     },
     "metadata": {},
     "output_type": "display_data"
    }
   ],
   "source": [
    "fig, ax=plt.subplots(1,2,figsize=(10,5))\n",
    "for t, v in loss_ewc.items():\n",
    "    ax[0].plot(list(range(t * epochs, (t + 1) * epochs)), v,linewidth=3)\n",
    "ax[0].set_xlabel('Epochs',fontsize=14)\n",
    "ax[0].set_title('Training loss for the %d tasks'%(num_task),fontsize=14)\n",
    "for t, v in acc_ewc.items():\n",
    "    ax[1].plot(list(range(t * epochs, num_task * epochs)), v,linewidth=3)\n",
    "ax[1].set_ylim(0, 1)\n",
    "ax[1].set_xlabel('Epochs',fontsize=14)\n",
    "ax[1].set_title('Testing accuracy for the %d tasks'%(num_task),fontsize=14)\n",
    "fig.suptitle('Using diagonal EWC',fontsize=18)\n",
    "plt.show()"
   ]
  },
  {
   "cell_type": "markdown",
   "metadata": {},
   "source": [
    "## Train sketched EWC"
   ]
  },
  {
   "cell_type": "code",
   "execution_count": 12,
   "metadata": {},
   "outputs": [
    {
     "data": {
      "application/vnd.jupyter.widget-view+json": {
       "model_id": "3eeca6dcbf954336a3637d9c815cd69c",
       "version_major": 2,
       "version_minor": 0
      },
      "text/plain": [
       "HBox(children=(FloatProgress(value=0.0, max=2.0), HTML(value='')))"
      ]
     },
     "metadata": {},
     "output_type": "display_data"
    },
    {
     "data": {
      "application/vnd.jupyter.widget-view+json": {
       "model_id": "e7c6205b77fd400482c02e9fbf4aa93a",
       "version_major": 2,
       "version_minor": 0
      },
      "text/plain": [
       "HBox(children=(FloatProgress(value=0.0, max=20.0), HTML(value='')))"
      ]
     },
     "metadata": {},
     "output_type": "display_data"
    },
    {
     "name": "stdout",
     "output_type": "stream",
     "text": [
      "\n"
     ]
    },
    {
     "data": {
      "application/vnd.jupyter.widget-view+json": {
       "model_id": "8190648100db4b1999c34ee4411ae1bd",
       "version_major": 2,
       "version_minor": 0
      },
      "text/plain": [
       "HBox(children=(FloatProgress(value=0.0, max=20.0), HTML(value='')))"
      ]
     },
     "metadata": {},
     "output_type": "display_data"
    },
    {
     "name": "stdout",
     "output_type": "stream",
     "text": [
      "\n",
      "\n"
     ]
    }
   ],
   "source": [
    "sketch_ewc_alpha=0.25\n",
    "sketch_ewc_importance = 1e4\n",
    "n_sketch = 50\n",
    "\n",
    "random.seed(seed)\n",
    "np.random.seed(seed)\n",
    "torch.manual_seed(seed)\n",
    "\n",
    "## define a convnet model\n",
    "model = Model().to(device)\n",
    "model.reset()\n",
    "\n",
    "random.seed(seed)\n",
    "np.random.seed(seed)\n",
    "torch.manual_seed(seed)\n",
    "\n",
    "sketch_ewc = SketchEWC(model,device=device,alpha=sketch_ewc_alpha,n_bucket=n_sketch)\n",
    "## performing training\n",
    "loss_sketch_ewc, acc_sketch_ewc = {}, {}\n",
    "for task in tqdm(range(num_task)):\n",
    "    loss_sketch_ewc[task] = []\n",
    "    acc_sketch_ewc[task] = []\n",
    "    for _ in tqdm(range(epochs)):\n",
    "        optimizer = torch.optim.Adam(params=model.parameters(),lr=lr)\n",
    "        loss_sketch_ewc[task].append(train_test_model.onlineEWC_train_classifier(ewc=sketch_ewc,\n",
    "                                                                    optimizer=optimizer,\n",
    "                                                                    data_loader=train_loader[task],\n",
    "                                                                    importance=sketch_ewc_importance,\n",
    "                                                                    device=device))\n",
    "        for sub_task in range(task + 1):\n",
    "            acc_sketch_ewc[sub_task].append(train_test_model.test_classifier(model=sketch_ewc.model,\n",
    "                                                                      data_loader=test_loader[sub_task],\n",
    "                                                                      device=device))\n",
    "    sketch_ewc.consolidate(train_loader[task])"
   ]
  },
  {
   "cell_type": "code",
   "execution_count": 13,
   "metadata": {},
   "outputs": [
    {
     "data": {
      "image/png": "[encoded data removed]",
      "text/plain": [
       "<Figure size 720x360 with 2 Axes>"
      ]
     },
     "metadata": {},
     "output_type": "display_data"
    }
   ],
   "source": [
    "fig, ax=plt.subplots(1,2,figsize=(10,5))\n",
    "for t, v in loss_sketch_ewc.items():\n",
    "    ax[0].plot(list(range(t * epochs, (t + 1) * epochs)), v,linewidth=3)\n",
    "ax[0].set_xlabel('Epochs',fontsize=14)\n",
    "ax[0].set_title('Training loss for the %d tasks'%(num_task),fontsize=14)\n",
    "for t, v in acc_sketch_ewc.items():\n",
    "    ax[1].plot(list(range(t * epochs, num_task * epochs)), v,linewidth=3)\n",
    "ax[1].set_ylim(0, 1)\n",
    "ax[1].set_xlabel('Epochs',fontsize=14)\n",
    "ax[1].set_title('Testing accuracy for the %d tasks'%(num_task),fontsize=14)\n",
    "fig.suptitle('Using sketched EWC',fontsize=18)\n",
    "plt.show()"
   ]
  },
  {
   "cell_type": "markdown",
   "metadata": {},
   "source": [
    "## Train k-fac EWC"
   ]
  },
  {
   "cell_type": "code",
   "execution_count": 14,
   "metadata": {},
   "outputs": [
    {
     "data": {
      "application/vnd.jupyter.widget-view+json": {
       "model_id": "6868d196f4b64b51b3f49d027c7f901e",
       "version_major": 2,
       "version_minor": 0
      },
      "text/plain": [
       "HBox(children=(FloatProgress(value=0.0, max=2.0), HTML(value='')))"
      ]
     },
     "metadata": {},
     "output_type": "display_data"
    },
    {
     "data": {
      "application/vnd.jupyter.widget-view+json": {
       "model_id": "05aeb35e1cec4d6d92a1d0da659820e1",
       "version_major": 2,
       "version_minor": 0
      },
      "text/plain": [
       "HBox(children=(FloatProgress(value=0.0, max=20.0), HTML(value='')))"
      ]
     },
     "metadata": {},
     "output_type": "display_data"
    },
    {
     "name": "stdout",
     "output_type": "stream",
     "text": [
      "\n"
     ]
    },
    {
     "data": {
      "application/vnd.jupyter.widget-view+json": {
       "model_id": "2d49f56290f8453092198e64f921741f",
       "version_major": 2,
       "version_minor": 0
      },
      "text/plain": [
       "HBox(children=(FloatProgress(value=0.0, max=20.0), HTML(value='')))"
      ]
     },
     "metadata": {},
     "output_type": "display_data"
    },
    {
     "name": "stdout",
     "output_type": "stream",
     "text": [
      "\n",
      "\n"
     ]
    }
   ],
   "source": [
    "kfac_ewc_alpha=0.25\n",
    "kfac_ewc_importance = 1e4\n",
    "\n",
    "random.seed(seed)\n",
    "np.random.seed(seed)\n",
    "torch.manual_seed(seed)\n",
    "\n",
    "## define a convnet model\n",
    "model = Model().to(device)\n",
    "model.reset()\n",
    "\n",
    "random.seed(seed)\n",
    "np.random.seed(seed)\n",
    "torch.manual_seed(seed)\n",
    "\n",
    "kfac_ewc = KfacEWC(model,device=device,decay=1-kfac_ewc_alpha,weight=kfac_ewc_alpha)\n",
    "## performing training\n",
    "loss_kfac_ewc, acc_kfac_ewc = {}, {}\n",
    "for task in tqdm(range(num_task)):\n",
    "    loss_kfac_ewc[task] = []\n",
    "    acc_kfac_ewc[task] = []\n",
    "    \n",
    "    kfac_ewc.reset_current_cov()\n",
    "    for _ in tqdm(range(epochs)):\n",
    "        optimizer = torch.optim.Adam(params=model.parameters(),lr=lr)\n",
    "        loss_kfac_ewc[task].append(train_test_model.kfac_train_classifier(\n",
    "            regularizer=kfac_ewc,\n",
    "            optimizer=optimizer,\n",
    "            data_loader=train_loader[task],\n",
    "            importance=kfac_ewc_importance,\n",
    "            device=device))\n",
    "        for sub_task in range(task + 1):\n",
    "            acc_kfac_ewc[sub_task].append(train_test_model.test_classifier(\n",
    "                model=kfac_ewc.model,\n",
    "                data_loader=test_loader[sub_task],\n",
    "                device=device))\n",
    "    kfac_ewc.consolidate()"
   ]
  },
  {
   "cell_type": "code",
   "execution_count": 15,
   "metadata": {
    "scrolled": false
   },
   "outputs": [
    {
     "data": {
      "image/png": "[encoded data removed]",
      "text/plain": [
       "<Figure size 720x360 with 2 Axes>"
      ]
     },
     "metadata": {},
     "output_type": "display_data"
    }
   ],
   "source": [
    "fig, ax=plt.subplots(1,2,figsize=(10,5))\n",
    "for t, v in loss_kfac_ewc.items():\n",
    "    ax[0].plot(list(range(t * epochs, (t + 1) * epochs)), v,linewidth=3)\n",
    "ax[0].set_xlabel('Epochs',fontsize=14)\n",
    "ax[0].set_title('Training loss for the %d tasks'%(num_task),fontsize=14)\n",
    "for t, v in acc_kfac_ewc.items():\n",
    "    ax[1].plot(list(range(t * epochs, num_task * epochs)), v,linewidth=3)\n",
    "ax[1].set_ylim(0, 1)\n",
    "ax[1].set_xlabel('Epochs',fontsize=14)\n",
    "ax[1].set_title('Testing accuracy for the %d tasks'%(num_task),fontsize=14)\n",
    "fig.suptitle('Using k-fac EWC',fontsize=18)\n",
    "plt.show()"
   ]
  },
  {
   "cell_type": "markdown",
   "metadata": {},
   "source": [
    "## Train full EWC"
   ]
  },
  {
   "cell_type": "code",
   "execution_count": 16,
   "metadata": {},
   "outputs": [
    {
     "data": {
      "application/vnd.jupyter.widget-view+json": {
       "model_id": "0934dc4022e040708bea66f4e56c32f6",
       "version_major": 2,
       "version_minor": 0
      },
      "text/plain": [
       "HBox(children=(FloatProgress(value=0.0, max=2.0), HTML(value='')))"
      ]
     },
     "metadata": {},
     "output_type": "display_data"
    },
    {
     "data": {
      "application/vnd.jupyter.widget-view+json": {
       "model_id": "0157f440b4b34b1da67fe5c5658f23ea",
       "version_major": 2,
       "version_minor": 0
      },
      "text/plain": [
       "HBox(children=(FloatProgress(value=0.0, max=20.0), HTML(value='')))"
      ]
     },
     "metadata": {},
     "output_type": "display_data"
    },
    {
     "name": "stdout",
     "output_type": "stream",
     "text": [
      "\n"
     ]
    },
    {
     "data": {
      "application/vnd.jupyter.widget-view+json": {
       "model_id": "b180b3083fe043a4a112ed350e210718",
       "version_major": 2,
       "version_minor": 0
      },
      "text/plain": [
       "HBox(children=(FloatProgress(value=0.0, max=20.0), HTML(value='')))"
      ]
     },
     "metadata": {},
     "output_type": "display_data"
    },
    {
     "name": "stdout",
     "output_type": "stream",
     "text": [
      "\n",
      "\n"
     ]
    }
   ],
   "source": [
    "full_ewc_alpha=0.25\n",
    "full_ewc_importance=1e4\n",
    "\n",
    "random.seed(seed)\n",
    "np.random.seed(seed)\n",
    "torch.manual_seed(seed)\n",
    "\n",
    "## define a MLP model\n",
    "model = Model().to(device)\n",
    "model.reset()\n",
    "\n",
    "random.seed(seed)\n",
    "np.random.seed(seed)\n",
    "torch.manual_seed(seed)\n",
    "\n",
    "full_ewc= FullEWC(model,device=device,alpha=full_ewc_alpha)\n",
    "## performing training\n",
    "loss_full_ewc, acc_full_ewc = {}, {}\n",
    "for task in tqdm(range(num_task)):\n",
    "    loss_full_ewc[task] = []\n",
    "    acc_full_ewc[task] = []\n",
    "    for _ in tqdm(range(epochs)):\n",
    "        optimizer = torch.optim.Adam(params=model.parameters(),lr=lr)\n",
    "        loss_full_ewc[task].append(train_test_model.onlineEWC_train_classifier(ewc=full_ewc,\n",
    "                                                                      optimizer=optimizer,\n",
    "                                                                      data_loader=train_loader[task],\n",
    "                                                                      importance=full_ewc_importance,\n",
    "                                                                      device=device))                           \n",
    "        for sub_task in range(task + 1):\n",
    "            acc_full_ewc[sub_task].append(train_test_model.test_classifier(model=full_ewc.model,\n",
    "                                                                 data_loader=test_loader[sub_task],\n",
    "                                                                 device=device))        \n",
    "    if not task == num_task - 1: \n",
    "        full_ewc.consolidate(train_loader[task])\n"
   ]
  },
  {
   "cell_type": "code",
   "execution_count": 17,
   "metadata": {},
   "outputs": [
    {
     "data": {
      "image/png": "[encoded data removed]",
      "text/plain": [
       "<Figure size 720x360 with 2 Axes>"
      ]
     },
     "metadata": {},
     "output_type": "display_data"
    }
   ],
   "source": [
    "fig, ax=plt.subplots(1,2,figsize=(10,5))\n",
    "for t, v in loss_full_ewc.items():\n",
    "    ax[0].plot(list(range(t * epochs, (t + 1) * epochs)), v,linewidth=3)\n",
    "ax[0].set_xlabel('Epochs',fontsize=14)\n",
    "ax[0].set_title('Training loss for the %d tasks'%(num_task),fontsize=14)\n",
    "for t, v in acc_full_ewc.items():\n",
    "    ax[1].plot(list(range(t * epochs, num_task * epochs)), v,linewidth=3)\n",
    "ax[1].set_ylim(0, 1)\n",
    "ax[1].set_xlabel('Epochs',fontsize=14)\n",
    "ax[1].set_title('Testing accuracy for the %d tasks'%(num_task),fontsize=14)\n",
    "fig.suptitle('Using Full IM on EWC',fontsize=18)\n",
    "plt.show()"
   ]
  },
  {
   "cell_type": "markdown",
   "metadata": {},
   "source": [
    "## Train block-diagonal EWC"
   ]
  },
  {
   "cell_type": "code",
   "execution_count": 18,
   "metadata": {},
   "outputs": [
    {
     "data": {
      "application/vnd.jupyter.widget-view+json": {
       "model_id": "66bb44db7ea645f98b9226be60b0aa60",
       "version_major": 2,
       "version_minor": 0
      },
      "text/plain": [
       "HBox(children=(FloatProgress(value=0.0, max=2.0), HTML(value='')))"
      ]
     },
     "metadata": {},
     "output_type": "display_data"
    },
    {
     "data": {
      "application/vnd.jupyter.widget-view+json": {
       "model_id": "3494a50b6f234841bea0d5e6975e490c",
       "version_major": 2,
       "version_minor": 0
      },
      "text/plain": [
       "HBox(children=(FloatProgress(value=0.0, max=20.0), HTML(value='')))"
      ]
     },
     "metadata": {},
     "output_type": "display_data"
    },
    {
     "name": "stdout",
     "output_type": "stream",
     "text": [
      "\n"
     ]
    },
    {
     "data": {
      "application/vnd.jupyter.widget-view+json": {
       "model_id": "9d7be8c16bb64287b3ea90a716f34b3e",
       "version_major": 2,
       "version_minor": 0
      },
      "text/plain": [
       "HBox(children=(FloatProgress(value=0.0, max=20.0), HTML(value='')))"
      ]
     },
     "metadata": {},
     "output_type": "display_data"
    },
    {
     "name": "stdout",
     "output_type": "stream",
     "text": [
      "\n",
      "\n"
     ]
    }
   ],
   "source": [
    "block_diagonal_ewc_alpha=0.25\n",
    "block_diagonal_ewc_importance=1e4\n",
    "\n",
    "random.seed(seed)\n",
    "np.random.seed(seed)\n",
    "torch.manual_seed(seed)\n",
    "\n",
    "## define a MLP model\n",
    "model = Model().to(device)\n",
    "model.reset()\n",
    "\n",
    "random.seed(seed)\n",
    "np.random.seed(seed)\n",
    "torch.manual_seed(seed)\n",
    "\n",
    "block_diagonal_ewc= BlockDiagonalEWC(model,device=device,alpha=block_diagonal_ewc_alpha)\n",
    "## performing training\n",
    "loss_block_diagonal_ewc, acc_block_diagonal_ewc = {}, {}\n",
    "for task in tqdm(range(num_task)):\n",
    "    loss_block_diagonal_ewc[task] = []\n",
    "    acc_block_diagonal_ewc[task] = []\n",
    "    for _ in tqdm(range(epochs)):\n",
    "        optimizer = torch.optim.Adam(params=model.parameters(),lr=lr)\n",
    "        loss_block_diagonal_ewc[task].append(train_test_model.onlineEWC_train_classifier(ewc=block_diagonal_ewc,\n",
    "                                                                      optimizer=optimizer,\n",
    "                                                                      data_loader=train_loader[task],\n",
    "                                                                      importance=block_diagonal_ewc_importance,\n",
    "                                                                      device=device))                           \n",
    "        for sub_task in range(task + 1):\n",
    "            acc_block_diagonal_ewc[sub_task].append(train_test_model.test_classifier(model=block_diagonal_ewc.model,\n",
    "                                                                 data_loader=test_loader[sub_task],\n",
    "                                                                 device=device))        \n",
    "    if not task == num_task - 1: \n",
    "        block_diagonal_ewc.consolidate(train_loader[task])"
   ]
  },
  {
   "cell_type": "code",
   "execution_count": 19,
   "metadata": {},
   "outputs": [
    {
     "data": {
      "image/png": "[encoded data removed]",
      "text/plain": [
       "<Figure size 720x360 with 2 Axes>"
      ]
     },
     "metadata": {},
     "output_type": "display_data"
    }
   ],
   "source": [
    "fig, ax=plt.subplots(1,2,figsize=(10,5))\n",
    "for t, v in loss_block_diagonal_ewc.items():\n",
    "    ax[0].plot(list(range(t * epochs, (t + 1) * epochs)), v,linewidth=3)\n",
    "ax[0].set_xlabel('Epochs',fontsize=14)\n",
    "ax[0].set_title('Training loss for the %d tasks'%(num_task),fontsize=14)\n",
    "for t, v in acc_block_diagonal_ewc.items():\n",
    "    ax[1].plot(list(range(t * epochs, num_task * epochs)), v,linewidth=3)\n",
    "ax[1].set_ylim(0, 1)\n",
    "ax[1].set_xlabel('Epochs',fontsize=14)\n",
    "ax[1].set_title('Testing accuracy for the %d tasks'%(num_task),fontsize=14)\n",
    "fig.suptitle('Using block-diagonal on EWC',fontsize=18)\n",
    "plt.show()"
   ]
  },
  {
   "cell_type": "markdown",
   "metadata": {},
   "source": [
    "## Visualize block-diagonal vs. k-fac"
   ]
  },
  {
   "cell_type": "code",
   "execution_count": null,
   "metadata": {},
   "outputs": [],
   "source": [
    "full_ewc_alpha=0.25\n",
    "full_ewc_importance=1e4\n",
    "\n",
    "random.seed(seed)\n",
    "np.random.seed(seed)\n",
    "torch.manual_seed(seed)\n",
    "\n",
    "## define a MLP model\n",
    "model = Model().to(device)\n",
    "model.reset()\n",
    "\n",
    "random.seed(seed)\n",
    "np.random.seed(seed)\n",
    "torch.manual_seed(seed)\n",
    "\n",
    "full_ewc= FullEWC(model,device=device,alpha=full_ewc_alpha)\n",
    "## performing training\n",
    "loss_full_ewc, acc_full_ewc = {}, {}\n",
    "for task in tqdm(range(num_task)):\n",
    "    loss_full_ewc[task] = []\n",
    "    acc_full_ewc[task] = []\n",
    "    for _ in tqdm(range(epochs)):\n",
    "        optimizer = torch.optim.Adam(params=model.parameters(),lr=lr)\n",
    "        loss_full_ewc[task].append(train_test_model.onlineEWC_train_classifier(ewc=full_ewc,\n",
    "                                                                      optimizer=optimizer,\n",
    "                                                                      data_loader=train_loader[task],\n",
    "                                                                      importance=full_ewc_importance,\n",
    "                                                                      device=device))                           \n",
    "        for sub_task in range(task + 1):\n",
    "            acc_full_ewc[sub_task].append(train_test_model.test_classifier(model=full_ewc.model,\n",
    "                                                                 data_loader=test_loader[sub_task],\n",
    "                                                                 device=device))        \n",
    "    if not task == num_task - 1: \n",
    "        full_ewc.consolidate(train_loader[task])"
   ]
  },
  {
   "cell_type": "code",
   "execution_count": null,
   "metadata": {},
   "outputs": [],
   "source": [
    "fim=full_ewc.calculate_FIM(train_loader).to('cpu')"
   ]
  },
  {
   "cell_type": "code",
   "execution_count": null,
   "metadata": {},
   "outputs": [],
   "source": [
    "q=np.quantile(abs(fim).reshape(-1),np.linspace(0.75,1,10))\n",
    "print(q)"
   ]
  },
  {
   "cell_type": "code",
   "execution_count": null,
   "metadata": {},
   "outputs": [],
   "source": [
    "B=np.sign(fim)*np.argmin(abs(abs(fim).reshape(-1)[:,np.newaxis]-q[np.newaxis,:]),1).reshape(fim.shape[0],fim.shape[1])/10\n",
    "# B=np.argmin(abs(abs(B).reshape(-1)[:,np.newaxis]-q[np.newaxis,:]),1).reshape(B.shape[0],B.shape[1])\n",
    "\n",
    "fig=plt.figure(figsize=(10,10))\n",
    "osetx=0\n",
    "osety=osetx\n",
    "plt.xticks([])\n",
    "plt.yticks([])\n",
    "plt.imshow(B[osetx:-1,osety:-1],cmap='RdBu')\n",
    "# cb=plt.colorbar(fraction=0.046, pad=0.04)\n",
    "plt.savefig(\"figure/toy_fim_illustration.pdf\", bbox_inches='tight')"
   ]
  },
  {
   "cell_type": "code",
   "execution_count": null,
   "metadata": {},
   "outputs": [],
   "source": []
  }
 ],
 "metadata": {
  "kernelspec": {
   "display_name": "Python 3 (Spyder)",
   "language": "python3",
   "name": "python3"
  },
  "language_info": {
   "codemirror_mode": {
    "name": "ipython",
    "version": 3
   },
   "file_extension": ".py",
   "mimetype": "text/x-python",
   "name": "python",
   "nbconvert_exporter": "python",
   "pygments_lexer": "ipython3",
   "version": "3.7.6"
  }
 },
 "nbformat": 4,
 "nbformat_minor": 4
}
