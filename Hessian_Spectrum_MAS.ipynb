{
 "cells": [
  {
   "cell_type": "code",
   "execution_count": 1,
   "metadata": {},
   "outputs": [],
   "source": [
    "import numpy as np\n",
    "\n",
    "import torch\n",
    "from torch import nn\n",
    "from torch.nn import functional as F\n",
    "\n",
    "import matplotlib.pyplot as plt\n",
    "from tqdm import tqdm_notebook \n",
    "\n",
    "from utils import mlp,train_test_model\n",
    "from utils.scp_utils.scp import SCP\n",
    "from utils.ewc_utils.onlineEWC import OnlineEWC\n",
    "from utils.mas_utils.mas import MAS\n",
    "\n",
    "from data.permuted_MNIST import get_permuted_mnist\n",
    "\n",
    "import matplotlib.pyplot as plt\n",
    "import matplotlib.animation as manimation\n",
    "from IPython import display\n",
    "import time"
   ]
  },
  {
   "cell_type": "code",
   "execution_count": 2,
   "metadata": {},
   "outputs": [],
   "source": [
    "import os\n",
    "if not os.path.isdir('saved_models/'):\n",
    "    os.mkdir('saved_models/')"
   ]
  },
  {
   "cell_type": "markdown",
   "metadata": {},
   "source": [
    "## Set configurations"
   ]
  },
  {
   "cell_type": "code",
   "execution_count": 3,
   "metadata": {},
   "outputs": [],
   "source": [
    "epochs = 20\n",
    "lr = 1e-4 \n",
    "batch_size = 100 \n",
    "input_size = 784\n",
    "hidden_sizes = [1024,512,256]\n",
    "output_size = 10\n",
    "num_task=2\n",
    "activation='ReLU'\n",
    "device='cuda:1'"
   ]
  },
  {
   "cell_type": "markdown",
   "metadata": {},
   "source": [
    "## Load dataset"
   ]
  },
  {
   "cell_type": "code",
   "execution_count": 4,
   "metadata": {},
   "outputs": [
    {
     "data": {
      "image/png": "[encoded data removed]",
      "text/plain": [
       "<Figure size 432x216 with 2 Axes>"
      ]
     },
     "metadata": {
      "needs_background": "light"
     },
     "output_type": "display_data"
    }
   ],
   "source": [
    "train_loader, test_loader = get_permuted_mnist(num_task,batch_size)\n",
    "\n",
    "fig,ax=plt.subplots(1,num_task,figsize=(num_task*3,3))\n",
    "for i in range(num_task):\n",
    "    iter_data=iter(train_loader[i])\n",
    "    image,label=iter_data.next()\n",
    "    I=np.reshape(image.data[0,...].numpy(),(28,28))    \n",
    "    ax[i].imshow(I,cmap='gray')\n",
    "    ax[i].set_title(label.data[0].numpy())\n",
    "    ax[i].set_xlabel(\"Intensity in [%.2f,%.2f]\"%(I.min(),I.max()))\n",
    "plt.show()"
   ]
  },
  {
   "cell_type": "markdown",
   "metadata": {},
   "source": [
    "## First we perform MAS"
   ]
  },
  {
   "cell_type": "code",
   "execution_count": null,
   "metadata": {},
   "outputs": [],
   "source": [
    "mas_alpha=0.25\n",
    "mas_importance=2e+4"
   ]
  },
  {
   "cell_type": "code",
   "execution_count": null,
   "metadata": {},
   "outputs": [],
   "source": [
    "## define a MLP model\n",
    "model=mlp.MLP(input_size=input_size,output_size=output_size,\n",
    "              hidden_size=hidden_sizes,activation=activation,\n",
    "              device=device).to(device)\n",
    "mas= MAS(model,device=device,alpha=mas_alpha)\n",
    "## performing training\n",
    "loss_mas, acc_mas = {}, {}\n",
    "for task in tqdm_notebook(range(num_task)):\n",
    "    loss_mas[task] = []\n",
    "    acc_mas[task] = []\n",
    "    for _ in tqdm_notebook(range(epochs)):\n",
    "        optimizer = torch.optim.Adam(params=model.parameters(),lr=lr)\n",
    "        loss_mas[task].append(train_test_model.mas_train_classifier(mas=mas,\n",
    "                                                                    optimizer=optimizer,\n",
    "                                                                    data_loader=train_loader[task],\n",
    "                                                                    importance=mas_importance,\n",
    "                                                                    device=device))                           \n",
    "        for sub_task in range(task + 1):\n",
    "            acc_mas[sub_task].append(train_test_model.test_classifier(model=mas.model,\n",
    "                                                                    data_loader=test_loader[sub_task],\n",
    "                                                                     device=device))\n",
    "    mas.consolidate(train_loader[task])    \n",
    "    torch.save(mas.model.state_dict(), 'saved_models/model_mas_'+str(task)+'.pt') \n",
    "    \n",
    "    importance_MAS=list()\n",
    "    for i,n in enumerate(mas._precision_matrices.keys()):\n",
    "        importance_MAS.append(mas._precision_matrices[n].detach().cpu().numpy())"
   ]
  }
 ],
 "metadata": {
  "kernelspec": {
   "display_name": "Python 3",
   "language": "python",
   "name": "python3"
  },
  "language_info": {
   "codemirror_mode": {
    "name": "ipython",
    "version": 3
   },
   "file_extension": ".py",
   "mimetype": "text/x-python",
   "name": "python",
   "nbconvert_exporter": "python",
   "pygments_lexer": "ipython3",
   "version": "3.7.6"
  }
 },
 "nbformat": 4,
 "nbformat_minor": 2
}
